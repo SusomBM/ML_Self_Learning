{
 "cells": [
  {
   "cell_type": "markdown",
   "id": "a730e93d-b8ef-4c2e-9a19-e56e3856653c",
   "metadata": {},
   "source": [
    "# List Vs NumPy array"
   ]
  },
  {
   "cell_type": "code",
   "execution_count": 1,
   "id": "a3b90df4-a752-4143-9abb-35351402f3ca",
   "metadata": {},
   "outputs": [
    {
     "data": {
      "text/plain": [
       "[74, 73, 90, 71, 69]"
      ]
     },
     "execution_count": 1,
     "metadata": {},
     "output_type": "execute_result"
    }
   ],
   "source": [
    "# heights in inch\n",
    "heights=[74,73,90,71,69]\n",
    "heights"
   ]
  },
  {
   "cell_type": "code",
   "execution_count": 2,
   "id": "2266b3dd-d057-452b-af80-edd364349e00",
   "metadata": {},
   "outputs": [
    {
     "ename": "TypeError",
     "evalue": "can't multiply sequence by non-int of type 'float'",
     "output_type": "error",
     "traceback": [
      "\u001b[1;31m---------------------------------------------------------------------------\u001b[0m",
      "\u001b[1;31mTypeError\u001b[0m                                 Traceback (most recent call last)",
      "Cell \u001b[1;32mIn[2], line 2\u001b[0m\n\u001b[0;32m      1\u001b[0m \u001b[38;5;66;03m#try to convert into cm by multiplying 2.54\u001b[39;00m\n\u001b[1;32m----> 2\u001b[0m \u001b[43mheights\u001b[49m\u001b[43m \u001b[49m\u001b[38;5;241;43m*\u001b[39;49m\u001b[43m \u001b[49m\u001b[38;5;241;43m2.54\u001b[39;49m\n",
      "\u001b[1;31mTypeError\u001b[0m: can't multiply sequence by non-int of type 'float'"
     ]
    }
   ],
   "source": [
    "#try to convert into cm by multiplying 2.54\n",
    "heights * 2.54 \n",
    "# you will get error and the alternate solution is to loop through the list and multiply it"
   ]
  },
  {
   "cell_type": "code",
   "execution_count": 3,
   "id": "0153964e-bfc5-40cf-ad1d-cb3892909416",
   "metadata": {},
   "outputs": [],
   "source": [
    "# to solve it we can use numpy array\n",
    "import numpy as np"
   ]
  },
  {
   "cell_type": "code",
   "execution_count": 4,
   "id": "2c22679b-bde4-41dc-ba06-2158c895fa36",
   "metadata": {},
   "outputs": [
    {
     "data": {
      "text/plain": [
       "array([74, 73, 90, 71, 69])"
      ]
     },
     "execution_count": 4,
     "metadata": {},
     "output_type": "execute_result"
    }
   ],
   "source": [
    "np_heights = np.array([74,73,90,71,69])\n",
    "np_heights"
   ]
  },
  {
   "cell_type": "code",
   "execution_count": 6,
   "id": "24893b8a-ecc8-46d5-a3ea-51aa6f60215c",
   "metadata": {},
   "outputs": [
    {
     "data": {
      "text/plain": [
       "numpy.ndarray"
      ]
     },
     "execution_count": 6,
     "metadata": {},
     "output_type": "execute_result"
    }
   ],
   "source": [
    "type(np_heights)"
   ]
  },
  {
   "cell_type": "code",
   "execution_count": 7,
   "id": "43211acb-f97e-4f25-a391-d6fdd92c48cf",
   "metadata": {},
   "outputs": [
    {
     "data": {
      "text/plain": [
       "array([187.96, 185.42, 228.6 , 180.34, 175.26])"
      ]
     },
     "execution_count": 7,
     "metadata": {},
     "output_type": "execute_result"
    }
   ],
   "source": [
    "np_heights * 2.54"
   ]
  },
  {
   "cell_type": "markdown",
   "id": "9d884a21-69fa-4ccd-91db-a007faa5f412",
   "metadata": {},
   "source": [
    "# NumPy comes with its own set of methods and operations"
   ]
  },
  {
   "cell_type": "code",
   "execution_count": 8,
   "id": "74a78a24-8a7a-480e-afdc-3a1aefeb6858",
   "metadata": {},
   "outputs": [
    {
     "data": {
      "text/plain": [
       "[1, 2, 3, 4, 5, 6]"
      ]
     },
     "execution_count": 8,
     "metadata": {},
     "output_type": "execute_result"
    }
   ],
   "source": [
    "# Merging list \n",
    "list_1 = [1,2,3]\n",
    "list_2 = [4,5,6]\n",
    "list_1 + list_2"
   ]
  },
  {
   "cell_type": "code",
   "execution_count": 9,
   "id": "1b037579-941c-479b-8429-3770a8dde38b",
   "metadata": {},
   "outputs": [
    {
     "data": {
      "text/plain": [
       "array([5, 7, 9])"
      ]
     },
     "execution_count": 9,
     "metadata": {},
     "output_type": "execute_result"
    }
   ],
   "source": [
    "# by numpy it sums the element \n",
    "np_list_1 = np.array([1,2,3])\n",
    "np_list_2 = np.array([4,5,6])\n",
    "np_list_1 + np_list_2"
   ]
  },
  {
   "cell_type": "markdown",
   "id": "70982bb6-e0d8-4363-8855-a544e4a2a47e",
   "metadata": {},
   "source": [
    "# Working with N-D Array"
   ]
  },
  {
   "cell_type": "code",
   "execution_count": 10,
   "id": "a7858ba2-2945-424d-9555-6447129ff6ea",
   "metadata": {},
   "outputs": [
    {
     "name": "stdout",
     "output_type": "stream",
     "text": [
      "[1.  2.  3.5 0.2 1. ]\n"
     ]
    }
   ],
   "source": [
    "arr = np.array([1.0, 2, 3.5, 0.2, True])\n",
    "print(arr)"
   ]
  },
  {
   "cell_type": "code",
   "execution_count": 11,
   "id": "2fdd500f-be0d-43fd-a75f-e8f242d8c862",
   "metadata": {},
   "outputs": [
    {
     "data": {
      "text/plain": [
       "numpy.ndarray"
      ]
     },
     "execution_count": 11,
     "metadata": {},
     "output_type": "execute_result"
    }
   ],
   "source": [
    "type(arr)"
   ]
  },
  {
   "cell_type": "code",
   "execution_count": null,
   "id": "bc2a015e-505c-44a7-9acd-5b8035c0dd3a",
   "metadata": {},
   "outputs": [],
   "source": []
  }
 ],
 "metadata": {
  "kernelspec": {
   "display_name": "Python 3 (ipykernel)",
   "language": "python",
   "name": "python3"
  },
  "language_info": {
   "codemirror_mode": {
    "name": "ipython",
    "version": 3
   },
   "file_extension": ".py",
   "mimetype": "text/x-python",
   "name": "python",
   "nbconvert_exporter": "python",
   "pygments_lexer": "ipython3",
   "version": "3.12.7"
  }
 },
 "nbformat": 4,
 "nbformat_minor": 5
}
