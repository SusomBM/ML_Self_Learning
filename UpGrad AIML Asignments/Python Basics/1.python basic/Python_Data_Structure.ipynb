{
 "cells": [
  {
   "cell_type": "code",
   "execution_count": 1,
   "id": "cb380e50-4d22-41c8-adda-b9d7594a68a9",
   "metadata": {},
   "outputs": [
    {
     "name": "stdin",
     "output_type": "stream",
     "text": [
      "enter your name Susom\n",
      "enter your age 50\n"
     ]
    }
   ],
   "source": [
    "name=input(\"enter your name\")\n",
    "id=input(\"enter your age\")"
   ]
  },
  {
   "cell_type": "code",
   "execution_count": 2,
   "id": "1efb7c7e-ab41-4a17-87b9-648efd60450c",
   "metadata": {},
   "outputs": [
    {
     "name": "stdout",
     "output_type": "stream",
     "text": [
      "799\n",
      "Susom  Your Id is  50  and number id  799\n",
      "['Susom', '50', 799]\n"
     ]
    }
   ],
   "source": [
    "from random import seed\n",
    "from random import randint\n",
    "value=randint(100,1000)\n",
    "print(value)\n",
    "\n",
    "print(name,' Your Id is ', id ,' and number id ' ,value)\n",
    "list=[name,id,value]\n",
    "print(list)"
   ]
  },
  {
   "cell_type": "code",
   "execution_count": 3,
   "id": "6a875ae9-d257-4297-8bc6-228029eb9607",
   "metadata": {},
   "outputs": [
    {
     "data": {
      "text/plain": [
       "['India', 1, 5, 'WB']"
      ]
     },
     "execution_count": 3,
     "metadata": {},
     "output_type": "execute_result"
    }
   ],
   "source": [
    "#list\n",
    "L=['India',1,5,'WB']\n",
    "L"
   ]
  },
  {
   "cell_type": "code",
   "execution_count": 17,
   "id": "0ead7451-d540-4910-841c-bfc42627d609",
   "metadata": {},
   "outputs": [
    {
     "data": {
      "text/plain": [
       "['India', 1, 5, 'WB', ['Garia', 700084]]"
      ]
     },
     "execution_count": 17,
     "metadata": {},
     "output_type": "execute_result"
    }
   ],
   "source": [
    "#Nested List\n",
    "NL=['India',1,5,'WB',['Garia',700084]]\n",
    "NL"
   ]
  },
  {
   "cell_type": "code",
   "execution_count": 5,
   "id": "c07fe9b1-ef69-4acd-99bc-53fc664b7893",
   "metadata": {},
   "outputs": [
    {
     "name": "stdout",
     "output_type": "stream",
     "text": [
      "India\n",
      "['Garia', 700084]\n",
      "['Garia', 700084]\n",
      "Garia\n",
      "700084\n"
     ]
    }
   ],
   "source": [
    "#Indexing of list\n",
    "print(L[0])\n",
    "print(NL[4])\n",
    "print(NL[-1])\n",
    "print(NL[4][0])\n",
    "print(NL[-1][1])"
   ]
  },
  {
   "cell_type": "code",
   "execution_count": 77,
   "id": "a15c64b9-9ec5-4319-a002-03c98f868005",
   "metadata": {},
   "outputs": [
    {
     "name": "stdout",
     "output_type": "stream",
     "text": [
      "[1, 5, 'Electronics']\n",
      "5\n"
     ]
    }
   ],
   "source": [
    "#slicing starting(including) : ending(excluding)\n",
    "print(NL[1:4])\n",
    "print(NL[-2]) # it gives you 2nd from last"
   ]
  },
  {
   "cell_type": "code",
   "execution_count": 7,
   "id": "cad81543-d4c5-462d-bdfe-5b35258a1d19",
   "metadata": {},
   "outputs": [
    {
     "name": "stdout",
     "output_type": "stream",
     "text": [
      "True\n",
      "False\n"
     ]
    }
   ],
   "source": [
    "#membership , whether value is in the list\n",
    "l=[1,2,3,4,5]\n",
    "print (1 in l)\n",
    "print(9 in l)"
   ]
  },
  {
   "cell_type": "code",
   "execution_count": 76,
   "id": "e7fd2624-6c34-4252-9a83-2457f94567b9",
   "metadata": {},
   "outputs": [
    {
     "name": "stdout",
     "output_type": "stream",
     "text": [
      "['physics', 'chemistry', 'math']\n",
      "['math', 'chemistry']\n"
     ]
    }
   ],
   "source": [
    "#list concatenation\n",
    "l1=['physics','chemistry']\n",
    "l2=['math']\n",
    "print(l1+l2)\n",
    "l3=l2+l1[-1:]\n",
    "print(l3)\n"
   ]
  },
  {
   "cell_type": "code",
   "execution_count": 10,
   "id": "f6900814-38e5-4ec8-8e67-c5850e3cc301",
   "metadata": {},
   "outputs": [
    {
     "name": "stdout",
     "output_type": "stream",
     "text": [
      "['physics', 'Electronics']\n"
     ]
    }
   ],
   "source": [
    "#Replace List element\n",
    "l1[1]='electronics'\n",
    "print(l1)"
   ]
  },
  {
   "cell_type": "code",
   "execution_count": 18,
   "id": "ad4c8ecb-a8a8-4d81-a8b4-5812e300cd84",
   "metadata": {},
   "outputs": [
    {
     "name": "stdout",
     "output_type": "stream",
     "text": [
      "['India', 1, 5, 'WB', ['Garia', 700084]]\n",
      "['India', 1, 5, 'WB', ['Garia', 700084], 'Electronics', 'English', 'Statistics']\n"
     ]
    }
   ],
   "source": [
    "#List Extend\n",
    "print(NL)\n",
    "NL.extend(['Electronics','English','Statistics']) #it will treat each one as element\n",
    "print(NL)"
   ]
  },
  {
   "cell_type": "code",
   "execution_count": 19,
   "id": "69ffe09d-f0ff-47c8-9a5e-208003691218",
   "metadata": {},
   "outputs": [
    {
     "name": "stdout",
     "output_type": "stream",
     "text": [
      "['India', 1, 5, 'WB', ['Garia', 700084], 'Electronics', 'English', 'Statistics', [2, 3]]\n"
     ]
    }
   ],
   "source": [
    "#List Append\n",
    "NL.append([2,3])  #it will treat whole one as element\n",
    "print(NL)"
   ]
  },
  {
   "cell_type": "code",
   "execution_count": 20,
   "id": "dd758b4a-62fc-44aa-98c0-cdb6935782f1",
   "metadata": {},
   "outputs": [
    {
     "name": "stdout",
     "output_type": "stream",
     "text": [
      "['India', 1, 5, 'WB', ['Garia', 700084], 'Electronics', 'Statistics', [2, 3]]\n"
     ]
    }
   ],
   "source": [
    "#Delete List element\n",
    "del NL[6]\n",
    "print(NL)"
   ]
  },
  {
   "cell_type": "code",
   "execution_count": 21,
   "id": "976ffc43-003b-4a25-9a52-9e161b743133",
   "metadata": {},
   "outputs": [
    {
     "name": "stdout",
     "output_type": "stream",
     "text": [
      "['India', 1, 5, 'Electronics', 'Statistics', [2, 3]]\n"
     ]
    }
   ],
   "source": [
    "#Delete List element in range\n",
    "del NL[3:5]\n",
    "print(NL)"
   ]
  },
  {
   "cell_type": "code",
   "execution_count": 22,
   "id": "961ae97d-e6ea-4fa9-aedd-9e2e6b4d2026",
   "metadata": {},
   "outputs": [
    {
     "name": "stdout",
     "output_type": "stream",
     "text": [
      "['India', 1, 5, 'Electronics', 'Statistics', [2, 3]]\n",
      "['India', 1, 5, 'Electronics', 'Statistics']\n"
     ]
    }
   ],
   "source": [
    "#pop\n",
    "print(NL)\n",
    "NL.pop() # removes last element of the list\n",
    "print(NL)"
   ]
  },
  {
   "cell_type": "code",
   "execution_count": 23,
   "id": "ab9eb7dc-d88f-43e7-82d0-39289c401de3",
   "metadata": {},
   "outputs": [
    {
     "name": "stdout",
     "output_type": "stream",
     "text": [
      "['India', 1, 5, 'Electronics']\n"
     ]
    }
   ],
   "source": [
    "#remove\n",
    "NL.remove('Statistics')\n",
    "print(NL)"
   ]
  },
  {
   "cell_type": "code",
   "execution_count": 27,
   "id": "5b23bd79-46b7-4e06-be9e-79eb1bb38853",
   "metadata": {},
   "outputs": [
    {
     "name": "stdout",
     "output_type": "stream",
     "text": [
      "[-6, 2, 4, 5, 7, 9, 20]\n",
      "[20, 9, 7, 5, 4, 2, -6]\n"
     ]
    }
   ],
   "source": [
    "#Sorting list\n",
    "LS=[-6,5,7,9,2,4,20]\n",
    "LS.sort()\n",
    "print(LS)\n",
    "LS.sort(reverse=True)\n",
    "print(LS)"
   ]
  },
  {
   "cell_type": "markdown",
   "id": "67d2fd63-64b1-4257-a5b9-2d7743d83065",
   "metadata": {},
   "source": [
    "#Difference between Sort and Sorted"
   ]
  },
  {
   "cell_type": "code",
   "execution_count": 33,
   "id": "eb0de19a-b5b4-4b1a-abdf-b592435a76eb",
   "metadata": {},
   "outputs": [
    {
     "name": "stdout",
     "output_type": "stream",
     "text": [
      " Before sort of A ['D', 'C', 'A']\n",
      " After sort of A ['A', 'C', 'D']\n",
      " After assignment of B None\n"
     ]
    }
   ],
   "source": [
    "# sort itself storts the element of the list itself\n",
    "A=['D','C','A']\n",
    "print(\" Before sort of A\" ,A)\n",
    "B=A.sort()\n",
    "print(\" After sort of A\" , A)\n",
    "print(\" After assignment of B\" ,B)"
   ]
  },
  {
   "cell_type": "code",
   "execution_count": 36,
   "id": "fd557d81-7de7-4a3d-b3a7-dc238782a387",
   "metadata": {},
   "outputs": [
    {
     "name": "stdout",
     "output_type": "stream",
     "text": [
      " Before sort of A ['D', 'C', 'A']\n",
      " After sort of A ['D', 'C', 'A']\n",
      " After assignment of C ['A', 'C', 'D']\n"
     ]
    }
   ],
   "source": [
    "# sorted does not storts the element of the list itself\n",
    "A=['D','C','A']\n",
    "print(\" Before sort of A\" ,A)\n",
    "C=sorted(A)\n",
    "print(\" After sort of A\" , A)\n",
    "print(\" After assignment of C\" ,C)"
   ]
  },
  {
   "cell_type": "code",
   "execution_count": 37,
   "id": "8cd40e44-e251-4ff3-be37-1f540c46a02c",
   "metadata": {},
   "outputs": [
    {
     "data": {
      "text/plain": [
       "2"
      ]
     },
     "execution_count": 37,
     "metadata": {},
     "output_type": "execute_result"
    }
   ],
   "source": [
    "list_1=[2, 33, 222, 14, 25]\n",
    "list_1[-5]"
   ]
  },
  {
   "cell_type": "code",
   "execution_count": 38,
   "id": "452adc5d-650c-4792-8360-5e2a1e9a7f81",
   "metadata": {},
   "outputs": [
    {
     "name": "stdout",
     "output_type": "stream",
     "text": [
      "[]\n"
     ]
    }
   ],
   "source": [
    "word = ['1','2','3','4'] \n",
    "word[ : ] = [ ] \n",
    "print(word)"
   ]
  },
  {
   "cell_type": "code",
   "execution_count": 39,
   "id": "4a064af2-d017-49d5-b27f-df5762982044",
   "metadata": {},
   "outputs": [
    {
     "name": "stdout",
     "output_type": "stream",
     "text": [
      "['five', 'four', 'one', 'six', 'three', 'two']\n",
      "['one', 'two', 'three', 'four', 'five', 'six']\n"
     ]
    }
   ],
   "source": [
    "L = ['one','two','three', 'four', 'five', 'six']\n",
    "print(sorted(L))\n",
    "print (L)"
   ]
  },
  {
   "cell_type": "code",
   "execution_count": 41,
   "id": "7553db1d-b179-4ac2-9400-049a0e8593c9",
   "metadata": {},
   "outputs": [
    {
     "name": "stdin",
     "output_type": "stream",
     "text": [
      "enter your name with _ Susom_Bikash_Mukherjee\n"
     ]
    },
    {
     "name": "stdout",
     "output_type": "stream",
     "text": [
      "Bikash\n",
      "Susom\n",
      "Mukherjee\n"
     ]
    }
   ],
   "source": [
    "name=input(\"enter your name with _\")\n",
    "# Split the input string by underscore\n",
    "parts = name.split('_')\n",
    "\n",
    "first_name = parts[1]  # Second part is the first name\n",
    "second_name = parts[0]  # First part is the second name\n",
    "customer_code = parts[2]  # Third part is the customer code\n",
    "print(first_name)\n",
    "print(second_name)\n",
    "print(customer_code)"
   ]
  },
  {
   "cell_type": "code",
   "execution_count": null,
   "id": "8030aa00-d2bb-4d35-8e10-8678ff0139a9",
   "metadata": {},
   "outputs": [],
   "source": [
    "input_list =  [['SAS','R'],['Tableau','SQL'],['Python','Java']]"
   ]
  },
  {
   "cell_type": "code",
   "execution_count": 44,
   "id": "293a461e-c43f-4979-ac5c-7c6030ecea73",
   "metadata": {},
   "outputs": [
    {
     "name": "stdin",
     "output_type": "stream",
     "text": [
      "enter your name with , SAS,R,PYTHON,SPSS\n"
     ]
    },
    {
     "name": "stdout",
     "output_type": "stream",
     "text": [
      "['SAS', 'R', 'PYTHON', 'SPARK']\n"
     ]
    }
   ],
   "source": [
    "input_list=input(\"enter your name with ,\")\n",
    "# Split the input string by underscore\n",
    "input_list = input_list.split(',')\n",
    "\n",
    "# Remove 'SPSS' if it exists in the list\n",
    "if 'SPSS' in input_list:\n",
    "    input_list.remove('SPSS')\n",
    "\n",
    "# Append 'SPARK' to the list\n",
    "input_list.append('SPARK')\n",
    "\n",
    "# Print the modified list\n",
    "print(input_list)"
   ]
  },
  {
   "cell_type": "code",
   "execution_count": 47,
   "id": "131b47b7-5007-4de0-b14b-3ea37d35592b",
   "metadata": {},
   "outputs": [
    {
     "name": "stdin",
     "output_type": "stream",
     "text": [
      "enter your name with , Pythons syntax is easy to learn,Pythons syntax is very clear\n"
     ]
    },
    {
     "name": "stdout",
     "output_type": "stream",
     "text": [
      "Pythons syntax is easy to learn & Pythons syntax is very clear\n"
     ]
    }
   ],
   "source": [
    "input_str=input(\"enter your name with ,\") # Input String: Pythons syntax is easy to learn,Pythons syntax is very clear\n",
    "# Join the list elements with ' & '\n",
    "input_str = input_str.split(',')\n",
    "string_1 = ' & '.join(input_str)\n",
    "\n",
    "# Print the modified string\n",
    "print(string_1)"
   ]
  },
  {
   "cell_type": "code",
   "execution_count": 49,
   "id": "49c21df2-bea5-4a87-b197-d5ec68a209e3",
   "metadata": {},
   "outputs": [
    {
     "name": "stdout",
     "output_type": "stream",
     "text": [
      "A before change ['Orange', 'Apple', 'Mango']\n",
      "B before change ['Orange', 'Apple', 'Mango']\n",
      "A after change ['Pineapple', 'Apple', 'Mango']\n",
      "B after change ['Pineapple', 'Apple', 'Mango']\n"
     ]
    }
   ],
   "source": [
    "#shadow copy\n",
    "A=['Orange','Apple','Mango']\n",
    "B=A\n",
    "print(\"A before change\",A)\n",
    "print(\"B before change\",B)\n",
    "A[0]='Pineapple'\n",
    "print(\"A after change\",A)\n",
    "print(\"B after change\",B) #B also changed"
   ]
  },
  {
   "cell_type": "code",
   "execution_count": 51,
   "id": "11215973-d941-4a86-a2fc-4393b7478a3e",
   "metadata": {},
   "outputs": [
    {
     "name": "stdout",
     "output_type": "stream",
     "text": [
      "Before change  ['Orange', 'Apple', 'Mango'] ['Orange', 'Apple', 'Mango']\n",
      "After change  ['Pineapple', 'Apple', 'Mango'] ['Orange', 'Apple', 'Mango']\n"
     ]
    }
   ],
   "source": [
    "# To overcome the above issue we need shadow copy\n",
    "A=['Orange','Apple','Mango']\n",
    "B=A[:]\n",
    "print (\"Before change \", A,B)\n",
    "A[0]='Pineapple'\n",
    "print (\"After change \", A,B)"
   ]
  },
  {
   "cell_type": "code",
   "execution_count": 55,
   "id": "8007cc12-20ad-4dbb-a362-2f09f3bc8e76",
   "metadata": {},
   "outputs": [
    {
     "name": "stdout",
     "output_type": "stream",
     "text": [
      "(1, 2, 3)\n"
     ]
    },
    {
     "data": {
      "text/plain": [
       "tuple"
      ]
     },
     "execution_count": 55,
     "metadata": {},
     "output_type": "execute_result"
    }
   ],
   "source": [
    "## Tuples\n",
    "T=(1,2,3)\n",
    "print(T)\n",
    "type(T)"
   ]
  },
  {
   "cell_type": "code",
   "execution_count": 56,
   "id": "b8c1c951-8d36-44ae-9531-68c2e04e65b7",
   "metadata": {},
   "outputs": [
    {
     "name": "stdout",
     "output_type": "stream",
     "text": [
      "(1, 2, 3, 4)\n"
     ]
    },
    {
     "data": {
      "text/plain": [
       "tuple"
      ]
     },
     "execution_count": 56,
     "metadata": {},
     "output_type": "execute_result"
    }
   ],
   "source": [
    "T1=1,2,3,4\n",
    "print(T1)\n",
    "type(T1)"
   ]
  },
  {
   "cell_type": "code",
   "execution_count": 108,
   "id": "c82aa2f5-345e-41ae-9ff7-1b4c330452d0",
   "metadata": {},
   "outputs": [
    {
     "name": "stdout",
     "output_type": "stream",
     "text": [
      "(1, 2, 3, 4, 5)\n"
     ]
    },
    {
     "data": {
      "text/plain": [
       "tuple"
      ]
     },
     "execution_count": 108,
     "metadata": {},
     "output_type": "execute_result"
    }
   ],
   "source": [
    "T1=1,2,3,4,5,\n",
    "print(T1)\n",
    "type(T1)"
   ]
  },
  {
   "cell_type": "code",
   "execution_count": 61,
   "id": "61fc75ad-3e31-4924-9d0c-14d5dfcba227",
   "metadata": {},
   "outputs": [
    {
     "name": "stdout",
     "output_type": "stream",
     "text": [
      "(1,)\n"
     ]
    },
    {
     "data": {
      "text/plain": [
       "tuple"
      ]
     },
     "execution_count": 61,
     "metadata": {},
     "output_type": "execute_result"
    }
   ],
   "source": [
    "#single value Tuple \",\" in the end\n",
    "TS=1,  # a tuple\n",
    "print(TS)\n",
    "type(TS)"
   ]
  },
  {
   "cell_type": "code",
   "execution_count": 62,
   "id": "1bf30aa0-2b92-4b4d-b53e-5c499b5d59fd",
   "metadata": {},
   "outputs": [
    {
     "data": {
      "text/plain": [
       "int"
      ]
     },
     "execution_count": 62,
     "metadata": {},
     "output_type": "execute_result"
    }
   ],
   "source": [
    "TS1=1  # not a tuple\n",
    "type(TS1)"
   ]
  },
  {
   "cell_type": "code",
   "execution_count": 63,
   "id": "7cb72317-ddf2-4800-8447-367b558da1bb",
   "metadata": {},
   "outputs": [
    {
     "data": {
      "text/plain": [
       "int"
      ]
     },
     "execution_count": 63,
     "metadata": {},
     "output_type": "execute_result"
    }
   ],
   "source": [
    "TS1=(1) # not a tuple\n",
    "type(TS1)"
   ]
  },
  {
   "cell_type": "code",
   "execution_count": 66,
   "id": "444ef655-7319-424e-8a84-fa7fdb3b2005",
   "metadata": {},
   "outputs": [
    {
     "name": "stdout",
     "output_type": "stream",
     "text": [
      "('India', 700084, 1.23)\n",
      "700084\n",
      "1.23\n"
     ]
    }
   ],
   "source": [
    "# Indexing a Tuple\n",
    "t=('India',700084,1.23)\n",
    "print(t)\n",
    "print(t[1])\n",
    "print(t[-1])"
   ]
  },
  {
   "cell_type": "code",
   "execution_count": 70,
   "id": "01070656-c634-406f-8f04-3ad26f88fec2",
   "metadata": {},
   "outputs": [
    {
     "name": "stdout",
     "output_type": "stream",
     "text": [
      "14.2\n",
      "2\n",
      "5\n"
     ]
    }
   ],
   "source": [
    "tuple = (2,3.2,4,5)\n",
    "print(sum(tuple))\n",
    "print(min(tuple))\n",
    "print(max(tuple))"
   ]
  },
  {
   "cell_type": "code",
   "execution_count": 71,
   "id": "595a987f-1c05-49bf-b7c1-13b5116b859c",
   "metadata": {},
   "outputs": [
    {
     "ename": "TypeError",
     "evalue": "'tuple' object does not support item assignment",
     "output_type": "error",
     "traceback": [
      "\u001b[1;31m---------------------------------------------------------------------------\u001b[0m",
      "\u001b[1;31mTypeError\u001b[0m                                 Traceback (most recent call last)",
      "Cell \u001b[1;32mIn[71], line 2\u001b[0m\n\u001b[0;32m      1\u001b[0m x \u001b[38;5;241m=\u001b[39m(\u001b[38;5;241m1\u001b[39m,\u001b[38;5;241m2\u001b[39m,\u001b[38;5;241m3\u001b[39m)\n\u001b[1;32m----> 2\u001b[0m \u001b[43mx\u001b[49m\u001b[43m[\u001b[49m\u001b[38;5;241;43m2\u001b[39;49m\u001b[43m]\u001b[49m \u001b[38;5;241m=\u001b[39m \u001b[38;5;241m5\u001b[39m\n\u001b[0;32m      3\u001b[0m \u001b[38;5;28mprint\u001b[39m(x)\n",
      "\u001b[1;31mTypeError\u001b[0m: 'tuple' object does not support item assignment"
     ]
    }
   ],
   "source": [
    "# Assignment can't be done in Tuple\n",
    "x =(1,2,3)\n",
    "x[2] = 5\n",
    "print(x)"
   ]
  },
  {
   "cell_type": "code",
   "execution_count": 72,
   "id": "7037242d-e464-4f88-ac4d-9fe072333397",
   "metadata": {},
   "outputs": [
    {
     "data": {
      "text/plain": [
       "'s'"
      ]
     },
     "execution_count": 72,
     "metadata": {},
     "output_type": "execute_result"
    }
   ],
   "source": [
    "t = (\"disco\", 12, 4.5)\n",
    "\n",
    "t[0][2]"
   ]
  },
  {
   "cell_type": "code",
   "execution_count": 78,
   "id": "7b82fad4-6227-4875-b3b2-ce557883a879",
   "metadata": {},
   "outputs": [
    {
     "name": "stdout",
     "output_type": "stream",
     "text": [
      "(2, 3.2, 4)\n",
      "4\n",
      "(4, 5)\n"
     ]
    }
   ],
   "source": [
    "#Slicing Tuples\n",
    "tuple = (2,3.2,4,5)\n",
    "print(tuple[0:3])\n",
    "print(tuple[-2])\n",
    "print(tuple[-2:]) #last two"
   ]
  },
  {
   "cell_type": "code",
   "execution_count": 79,
   "id": "99ac4da3-ce25-4189-8388-1dfb5710b5b5",
   "metadata": {},
   "outputs": [
    {
     "data": {
      "text/plain": [
       "4"
      ]
     },
     "execution_count": 79,
     "metadata": {},
     "output_type": "execute_result"
    }
   ],
   "source": [
    "#length\n",
    "len(tuple)"
   ]
  },
  {
   "cell_type": "code",
   "execution_count": 82,
   "id": "874bd829-d1b4-4006-b365-84794a4625ea",
   "metadata": {},
   "outputs": [
    {
     "name": "stdout",
     "output_type": "stream",
     "text": [
      "(1, 2, 3, 4, 'A', 'B', 'C')\n"
     ]
    }
   ],
   "source": [
    "#cancatenation of tuple\n",
    "t1=(1,2,3,4)\n",
    "t2=('A','B','C')\n",
    "t3=t1+t2\n",
    "print(t3)"
   ]
  },
  {
   "cell_type": "code",
   "execution_count": 86,
   "id": "01eb90ff-38cb-469e-9156-41a661cf041e",
   "metadata": {},
   "outputs": [
    {
     "name": "stdout",
     "output_type": "stream",
     "text": [
      "10\n",
      "1\n",
      "4\n"
     ]
    }
   ],
   "source": [
    "print(sum(t1))\n",
    "print(min(t1))\n",
    "print(max(t1))"
   ]
  },
  {
   "cell_type": "code",
   "execution_count": 91,
   "id": "23a1b492-a54b-4940-a6a0-64e868f18ea8",
   "metadata": {},
   "outputs": [
    {
     "name": "stdout",
     "output_type": "stream",
     "text": [
      "(1, 2, 3, 'New Tuple', 'B', 'C')\n"
     ]
    }
   ],
   "source": [
    "#Immutability : is the key feature\n",
    "t3=t1[0:3] + (\"New Tuple\",) + t2[1:]\n",
    "print(t3)"
   ]
  },
  {
   "cell_type": "code",
   "execution_count": 96,
   "id": "fe71045a-4484-46a4-b0c3-0281a8607f11",
   "metadata": {},
   "outputs": [
    {
     "name": "stdout",
     "output_type": "stream",
     "text": [
      "[2, 5, 8, 9]\n"
     ]
    }
   ],
   "source": [
    "#Sorting tuple\n",
    "t=(9,5,2,8)\n",
    "x=sorted(t) #note like List inplace sort is not available\n",
    "print(x)"
   ]
  },
  {
   "cell_type": "code",
   "execution_count": 99,
   "id": "02d5e897-0a29-4129-ad39-8d501274869b",
   "metadata": {},
   "outputs": [
    {
     "name": "stdout",
     "output_type": "stream",
     "text": [
      "(1, 2, 3, 4, 5, ('A', 'B'), 6)\n",
      "B\n"
     ]
    }
   ],
   "source": [
    "#nested Tuple\n",
    "t1=(1,2,3,4,5,('A','B'),6)\n",
    "print(t1)\n",
    "print(t1[5][1])"
   ]
  },
  {
   "cell_type": "code",
   "execution_count": 100,
   "id": "70fa7f0c-993d-44fc-8640-41e1d49fa081",
   "metadata": {},
   "outputs": [
    {
     "name": "stdout",
     "output_type": "stream",
     "text": [
      "3\n"
     ]
    }
   ],
   "source": [
    "#Packing and Unpacking Tuple\n",
    "t=(1,2,3,4,5)    # packing \n",
    "(a,b,c,d,e) = t  #Un-packing , number of elements should be same, esle error\n",
    "print(c)"
   ]
  },
  {
   "cell_type": "code",
   "execution_count": 103,
   "id": "c38a0719-6848-470a-9fdd-1dc904998a9f",
   "metadata": {},
   "outputs": [
    {
     "name": "stdout",
     "output_type": "stream",
     "text": [
      "['__add__', '__class__', '__class_getitem__', '__contains__', '__delattr__', '__dir__', '__doc__', '__eq__', '__format__', '__ge__', '__getattribute__', '__getitem__', '__getnewargs__', '__getstate__', '__gt__', '__hash__', '__init__', '__init_subclass__', '__iter__', '__le__', '__len__', '__lt__', '__mul__', '__ne__', '__new__', '__reduce__', '__reduce_ex__', '__repr__', '__rmul__', '__setattr__', '__sizeof__', '__str__', '__subclasshook__', 'count', 'index']\n"
     ]
    }
   ],
   "source": [
    "t=() # emply tuple\n",
    "print(dir(t)) # to view all the methods of and object"
   ]
  },
  {
   "cell_type": "code",
   "execution_count": 107,
   "id": "e918982f-13ab-4af5-9f6e-cda80c521325",
   "metadata": {},
   "outputs": [
    {
     "name": "stdout",
     "output_type": "stream",
     "text": [
      "()\n",
      "4\n"
     ]
    }
   ],
   "source": [
    "t = (1, 2, 4, 3)\n",
    "#print(t[4])\n",
    "#t[3] = 5 \n",
    "print(t[1:-4]) \n",
    "print(len(t))"
   ]
  },
  {
   "cell_type": "code",
   "execution_count": 110,
   "id": "5acb6aa7-a736-4fdd-b46d-27f997a174ed",
   "metadata": {},
   "outputs": [
    {
     "name": "stdin",
     "output_type": "stream",
     "text": [
      "enter your name with , ('Monty Python', 'British', 1969)\n"
     ]
    },
    {
     "name": "stdout",
     "output_type": "stream",
     "text": [
      "('Monty Python', 'British', 1969, 'Python')\n"
     ]
    }
   ],
   "source": [
    "import ast\n",
    "import sys\n",
    "\n",
    "# Read input from stdin\n",
    "input_str=input(\"enter your name with ,\")  #('Monty Python', 'British', 1969)\n",
    "input_str = input_str.strip()\n",
    "\n",
    "# Convert the string input into a tuple using ast.literal_eval\n",
    "input_tuple = ast.literal_eval(input_str)\n",
    "\n",
    "# Append 'Python' to the tuple\n",
    "tuple_2 = input_tuple + ('Python',)\n",
    "\n",
    "# Print the final tuple\n",
    "print(tuple_2)"
   ]
  },
  {
   "cell_type": "code",
   "execution_count": 171,
   "id": "b2e5c6d9-b17b-4c10-9c4c-1e8014ac8242",
   "metadata": {},
   "outputs": [
    {
     "name": "stdout",
     "output_type": "stream",
     "text": [
      "{1, 2, 3, 4, 5, 9}\n"
     ]
    }
   ],
   "source": [
    "#Sets : does not allow duplicate and Indexing : It does fast searching and mutable\n",
    "s={9,1,2,3,4,1,5,3,2}\n",
    "print(s) # it will print distinct values only and in sorted order"
   ]
  },
  {
   "cell_type": "code",
   "execution_count": 117,
   "id": "1efc1c79-6fd8-4152-a227-c70a84aad5cb",
   "metadata": {},
   "outputs": [
    {
     "data": {
      "text/plain": [
       "{'a', 'b', 'c', 'd'}"
      ]
     },
     "execution_count": 117,
     "metadata": {},
     "output_type": "execute_result"
    }
   ],
   "source": [
    "l=['a','b','c','d','a','a']  #duplicate values are there \n",
    "s1=set(l) #typecasting list into set and NO duplicate values\n",
    "s1"
   ]
  },
  {
   "cell_type": "code",
   "execution_count": 120,
   "id": "0cb85791-39da-4731-8bb2-e2cf284026dc",
   "metadata": {},
   "outputs": [
    {
     "name": "stdout",
     "output_type": "stream",
     "text": [
      "{1, 3, 6, 'America', 'A'}\n",
      "{1, 3, 'America', 'A'}\n"
     ]
    }
   ],
   "source": [
    "a={1,6,3,'A'}\n",
    "a.add('America')\n",
    "print(a)\n",
    "a.remove(6)\n",
    "print(a)"
   ]
  },
  {
   "cell_type": "code",
   "execution_count": 128,
   "id": "f98ca7aa-2815-47d3-b5e6-2cf0dd8aea7e",
   "metadata": {},
   "outputs": [
    {
     "name": "stdout",
     "output_type": "stream",
     "text": [
      "{1, 2, 3, 4, 5} {3, 4, 5, 6, 7, 8}\n",
      "{1, 2, 3, 4, 5, 6, 7, 8}\n",
      "{3, 4, 5}\n",
      "{3, 4, 5}\n",
      "{1, 2}\n",
      "{1, 2}\n",
      "{1, 2, 6, 7, 8}\n"
     ]
    }
   ],
   "source": [
    "#set operations\n",
    "a={1,2,3,4,5}\n",
    "b={3,4,5,6,7,8}\n",
    "print(a,b)\n",
    "print(a|b) # Union\n",
    "print(a&b) # Intersection , both a and b\n",
    "print(a.intersection(b)) # Intersection by using method, both a and b\n",
    "print(a-b) # Difference\n",
    "print(a.difference(b)) # Difference # Intersection by using method\n",
    "# symmetric difference : all values from both set but exclude the common\n",
    "# combination of (a|b) - (a&b)\n",
    "print(a ^ b) # all distinct values from both sets"
   ]
  },
  {
   "cell_type": "code",
   "execution_count": 129,
   "id": "11274f84-9990-4e4b-a0a3-d482b6245b5d",
   "metadata": {},
   "outputs": [
    {
     "name": "stdout",
     "output_type": "stream",
     "text": [
      "4\n"
     ]
    }
   ],
   "source": [
    "nums = set([1,1,2,3,3,3,4])\n",
    "print(len(nums))"
   ]
  },
  {
   "cell_type": "code",
   "execution_count": 133,
   "id": "6e26b2a3-e05c-4f8e-b75d-438e46a3c84e",
   "metadata": {},
   "outputs": [
    {
     "name": "stdout",
     "output_type": "stream",
     "text": [
      "{'India': 'INR', 'US': 'USD', 'UK': 'EURO'}\n",
      "INR\n"
     ]
    },
    {
     "data": {
      "text/plain": [
       "dict"
      ]
     },
     "execution_count": 133,
     "metadata": {},
     "output_type": "execute_result"
    }
   ],
   "source": [
    "#Dictonaries : It stores keys and values: keys are Unique and imutable but values are mutable and duplicate: \n",
    "d={\"India\":\"INR\" , \"US\":\"USD\", \"UK\":\"EURO\"}\n",
    "print(d)\n",
    "print(d[\"India\"])\n",
    "type(d)"
   ]
  },
  {
   "cell_type": "code",
   "execution_count": 148,
   "id": "dd7c11af-b633-4f64-852f-8568942c0d3f",
   "metadata": {},
   "outputs": [
    {
     "name": "stdout",
     "output_type": "stream",
     "text": [
      "{'a': 1, 'b': 2}\n"
     ]
    },
    {
     "data": {
      "text/plain": [
       "dict"
      ]
     },
     "execution_count": 148,
     "metadata": {},
     "output_type": "execute_result"
    }
   ],
   "source": [
    "d = dict(a=1, b=2) \n",
    "print(d)\n",
    "type(d)"
   ]
  },
  {
   "cell_type": "code",
   "execution_count": 145,
   "id": "dc27742a-d42a-4b1e-a0e9-1f96b03de883",
   "metadata": {},
   "outputs": [
    {
     "name": "stdout",
     "output_type": "stream",
     "text": [
      "{'India': 'INR', 'US': '$', 'UK': 'EURO'}\n",
      "{'India': 'INR', 'US': 'USD', 'UK': 'EURO'}\n",
      "{'India': 'INR', 'US': '$', 'UK': 'EURO'}\n"
     ]
    }
   ],
   "source": [
    "# change/update the key value\n",
    "d={\"India\":\"INR\" , \"US\":\"USD\", \"UK\":\"EURO\"}\n",
    "d[\"US\"] =\"$\"\n",
    "print(d)\n",
    "d={\"India\":\"INR\" , \"US\":\"USD\", \"UK\":\"EURO\"}\n",
    "print(d)\n",
    "d.update({\"US\":\"$\"})\n",
    "print(d)"
   ]
  },
  {
   "cell_type": "code",
   "execution_count": 138,
   "id": "f781852d-1c94-4826-acac-5524392ff0af",
   "metadata": {},
   "outputs": [
    {
     "name": "stdout",
     "output_type": "stream",
     "text": [
      "{'India': 'INR', 'US': 'USD', 'UK': 'EURO', 'Japan': 'YEN'}\n",
      "{'India': 'INR', 'US': 'USD', 'UK': 'EURO'}\n"
     ]
    }
   ],
   "source": [
    "#insert new key and valye\n",
    "d={\"India\":\"INR\" , \"US\":\"USD\", \"UK\":\"EURO\"}\n",
    "d[\"Japan\"]=\"YEN\"\n",
    "print(d)\n",
    "# Delete\n",
    "del d[\"Japan\"]\n",
    "print(d)"
   ]
  },
  {
   "cell_type": "code",
   "execution_count": 169,
   "id": "6364e817-7e28-4c9b-a437-da5c59ae768c",
   "metadata": {},
   "outputs": [
    {
     "name": "stdout",
     "output_type": "stream",
     "text": [
      "{'India': 'INR', 'US': 'USD', 'UK': 'EURO'}\n",
      "['India', 'UK', 'US']\n"
     ]
    }
   ],
   "source": [
    "# Sorting\n",
    "d={\"India\":\"INR\" , \"US\":\"USD\", \"UK\":\"EURO\"}\n",
    "print(d)\n",
    "a=sorted(d)\n",
    "print(a)"
   ]
  },
  {
   "cell_type": "code",
   "execution_count": 161,
   "id": "0af78543-969d-41b9-b11a-81d61ab584de",
   "metadata": {},
   "outputs": [
    {
     "name": "stdout",
     "output_type": "stream",
     "text": [
      "dict_values([['Shiva', 24, 'Product Lead'], ['Sonam', 28, 'Sr Manager'], ['Ansari', 29, 'Product Lead'], ['Huzefa', 32, 'Project Manager']])\n",
      "dict_keys([104, 103, 101, 105])\n"
     ]
    }
   ],
   "source": [
    "#extract all the values\n",
    "print(d.values())\n",
    "#extract all the keys\n",
    "print(d.keys())"
   ]
  },
  {
   "cell_type": "code",
   "execution_count": 166,
   "id": "296115a7-da39-4b87-8fcb-91f616db00eb",
   "metadata": {},
   "outputs": [
    {
     "name": "stdout",
     "output_type": "stream",
     "text": [
      "Tech Lead\n"
     ]
    }
   ],
   "source": [
    "input_dict= { 102:['Shiva', 24, 'Content Strategist'],104:['Udit',25,'Tech Lead'], 105:['Huzefa',32,'Project Manager' ]}\n",
    "professions = input_dict[104][2]\n",
    "print(professions)"
   ]
  },
  {
   "cell_type": "code",
   "execution_count": 173,
   "id": "5d01f739-5033-42dc-b080-5455dff2d1bd",
   "metadata": {},
   "outputs": [
    {
     "name": "stdout",
     "output_type": "stream",
     "text": [
      "None\n"
     ]
    }
   ],
   "source": [
    "list_1 = ['red' , 'orange', 'blue', 'green', 'black', 'white']\n",
    "print(list_1.sort())"
   ]
  },
  {
   "cell_type": "code",
   "execution_count": null,
   "id": "d0f0b1d5-e01a-4726-9b30-6f16b2254f90",
   "metadata": {},
   "outputs": [],
   "source": [
    "import sys\n",
    "\n",
    "# Read input and clean the number by removing commas\n",
    "n = sys.stdin.read().strip().replace(',', '')\n",
    "\n",
    "# Convert to integer\n",
    "num = int(n)\n",
    "\n",
    "# Extract digits and check divisibility\n",
    "happy = all(int(digit) != 0 and num % int(digit) == 0 for digit in n if digit.isdigit())\n",
    "\n",
    "# Print result\n",
    "print(\"Happy Number\" if happy else \"Sad Number\")"
   ]
  },
  {
   "cell_type": "code",
   "execution_count": null,
   "id": "b634887f-ea4c-4be2-a815-d693b1ef5c9e",
   "metadata": {},
   "outputs": [],
   "source": [
    "import sys\n",
    "\n",
    "# Read input and parse it into a list of tuples\n",
    "marks = eval(sys.stdin.read().strip())\n",
    "\n",
    "# Sort the list based on Physics marks (second element in the tuple) in descending order\n",
    "sorted_marks = sorted(marks, key=lambda x: x[1], reverse=True)\n",
    "\n",
    "# Print the sorted list\n",
    "print(sorted_marks)"
   ]
  },
  {
   "cell_type": "code",
   "execution_count": null,
   "id": "38098916-3cf7-4208-8771-cbede23e23b6",
   "metadata": {},
   "outputs": [],
   "source": [
    "#Take input here\n",
    "test_str = input()\n",
    "\n",
    "max_length = 0\n",
    "current_length = 0\n",
    "\n",
    "# Iterate through the string to find the longest uppercase substring\n",
    "for char in test_str:\n",
    "    if char.isupper():  \n",
    "        current_length += 1  \n",
    "        max_length = max(max_length, current_length)  \n",
    "    else:\n",
    "        current_length = 0  # Reset count if a non-uppercase character is found\n",
    "\n",
    "print(max_length)  # Print the length of the longest uppercase substring\n",
    "\n"
   ]
  },
  {
   "cell_type": "code",
   "execution_count": null,
   "id": "9718d14f-2879-4e64-9083-2e06135472fb",
   "metadata": {},
   "outputs": [],
   "source": [
    "import ast\n",
    "\n",
    "# Read input as a string and convert it into a list using ast.literal_eval\n",
    "test_str = input()\n",
    "scores = ast.literal_eval(test_str)  # Safely convert input string to list\n",
    "\n",
    "# Check if the number of players exceeds 11\n",
    "if len(scores) > 11:\n",
    "    print(-1)\n",
    "else:\n",
    "    print(sum(scores))  # Print the total score if valid"
   ]
  },
  {
   "cell_type": "code",
   "execution_count": null,
   "id": "7929288d-3bcc-4080-8f79-14bf8680a966",
   "metadata": {},
   "outputs": [],
   "source": [
    "import ast\n",
    "\n",
    "#Take input\n",
    "input_list = ast.literal_eval(input())\n",
    "K= int(input())\n",
    "\n",
    "# Initialising a count variagble that tracks the number of elements in the list\n",
    "# with length >k\n",
    "count = 0\n",
    "\n",
    "#Looping through the list and check the length of each element. Increase the count by 1 if the \n",
    "#length is greater than K\n",
    "for i in input_list:\n",
    "\tif len(i)>=K:\n",
    "\t    count=count+1\n",
    "\t    \n",
    "print(count)"
   ]
  },
  {
   "cell_type": "code",
   "execution_count": null,
   "id": "e1f526e4-eb95-47d9-982c-f210c526ae4d",
   "metadata": {},
   "outputs": [],
   "source": [
    "#Input has been taken for you\n",
    "import ast\n",
    "input_list = ast.literal_eval(input())\n",
    "K = int(input())\n",
    "\n",
    "#write the code\n",
    "\n",
    "# Process the list: Increment numeric strings by K\n",
    "output_list = [str(int(item) + K) if item.isdigit() else item for item in input_list]\n",
    "\n",
    "# Print the updated list\n",
    "print(output_list)"
   ]
  },
  {
   "cell_type": "code",
   "execution_count": null,
   "id": "c43be2b2-46fd-4d71-a2dd-8d21be96aaee",
   "metadata": {},
   "outputs": [],
   "source": [
    "#read the input using the ast sys\n",
    "import ast\n",
    "\n",
    "# Read input\n",
    "input_list = ast.literal_eval(input())  # Convert input string to list\n",
    "K = int(input())  # Read integer K\n",
    "\n",
    "# Slice the list from the K-th position (0-based index, so use K-1)\n",
    "output_list = input_list[K-1:]\n",
    "\n",
    "# Print the updated list\n",
    "print(output_list)"
   ]
  },
  {
   "cell_type": "code",
   "execution_count": null,
   "id": "ab551767-91fb-4f2b-b47e-411281c829c3",
   "metadata": {},
   "outputs": [],
   "source": [
    "import ast\n",
    "\n",
    "# Read input\n",
    "team_avg = ast.literal_eval(input())  # Convert input string to list\n",
    "new_emp = ast.literal_eval(input())   # Convert input string to list\n",
    "\n",
    "# Convert string elements to float\n",
    "team_avg = [float(x) for x in team_avg]\n",
    "new_emp = [float(x) for x in new_emp]\n",
    "\n",
    "# Count how many parameters decrease the team's average\n",
    "decreased_count = sum(1 for i in range(5) if new_emp[i] < team_avg[i])\n",
    "\n",
    "# Decision based on the rule\n",
    "if decreased_count > 2:\n",
    "    print(\"Rejected\")\n",
    "else:\n",
    "    print(\"Selected\")"
   ]
  },
  {
   "cell_type": "code",
   "execution_count": null,
   "id": "a30af58e-1951-4503-ae98-6cd79de82375",
   "metadata": {},
   "outputs": [],
   "source": [
    "#Take input here\n",
    "#we will take input using ast sys\n",
    "import ast\n",
    "#reading the input dictionary\n",
    "input_dictionary = input()\n",
    "convert_dictionary = ast.literal_eval(input_dictionary)\n",
    "\n",
    "#reading the input list\n",
    "input_list = input()\n",
    "convert_list = ast.literal_eval(input_list)\n",
    "\n",
    "#Write code here\n",
    "# Updating the dictionary with new main players\n",
    "for club, new_player in convert_list:\n",
    "    if club in convert_dictionary:\n",
    "        convert_dictionary[club] = new_player\n",
    "\n",
    "# Printing the updated dictionary\n",
    "print(convert_dictionary)"
   ]
  },
  {
   "cell_type": "code",
   "execution_count": null,
   "id": "5ce8a84f-e790-459b-aa3a-b0123945e149",
   "metadata": {},
   "outputs": [],
   "source": [
    "import ast\n",
    "\n",
    "# Read input dictionaries\n",
    "dict1 = ast.literal_eval(input())  # Convert input string to dictionary\n",
    "dict2 = ast.literal_eval(input())  # Convert input string to dictionary\n",
    "\n",
    "# Merge the dictionaries\n",
    "merged_dict = {**dict1, **dict2}\n",
    "\n",
    "# Print the merged dictionary\n",
    "print(merged_dict)\n"
   ]
  }
 ],
 "metadata": {
  "kernelspec": {
   "display_name": "Python 3 (ipykernel)",
   "language": "python",
   "name": "python3"
  },
  "language_info": {
   "codemirror_mode": {
    "name": "ipython",
    "version": 3
   },
   "file_extension": ".py",
   "mimetype": "text/x-python",
   "name": "python",
   "nbconvert_exporter": "python",
   "pygments_lexer": "ipython3",
   "version": "3.12.7"
  }
 },
 "nbformat": 4,
 "nbformat_minor": 5
}
