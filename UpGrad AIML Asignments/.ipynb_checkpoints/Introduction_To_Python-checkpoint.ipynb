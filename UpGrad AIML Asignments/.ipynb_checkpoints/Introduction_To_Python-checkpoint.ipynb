{
 "cells": [
  {
   "cell_type": "code",
   "execution_count": 1,
   "id": "36f784ab-8308-4fae-aa84-2827dcedc091",
   "metadata": {},
   "outputs": [
    {
     "name": "stdout",
     "output_type": "stream",
     "text": [
      "3.0\n"
     ]
    }
   ],
   "source": [
    "x = 3.5\n",
    "print(float(int(x)))"
   ]
  },
  {
   "cell_type": "code",
   "execution_count": 5,
   "id": "01a60ce1-77a8-46f9-b7da-df606f382764",
   "metadata": {},
   "outputs": [
    {
     "ename": "NameError",
     "evalue": "name 'Varma' is not defined",
     "output_type": "error",
     "traceback": [
      "\u001b[1;31m---------------------------------------------------------------------------\u001b[0m",
      "\u001b[1;31mNameError\u001b[0m                                 Traceback (most recent call last)",
      "Cell \u001b[1;32mIn[5], line 1\u001b[0m\n\u001b[1;32m----> 1\u001b[0m name \u001b[38;5;241m=\u001b[39m Varma\n\u001b[0;32m      2\u001b[0m \u001b[38;5;28mprint\u001b[39m(\u001b[38;5;28mtype\u001b[39m(name))\n",
      "\u001b[1;31mNameError\u001b[0m: name 'Varma' is not defined"
     ]
    }
   ],
   "source": [
    "name = Varma\n",
    "print(type(name))"
   ]
  },
  {
   "cell_type": "code",
   "execution_count": 10,
   "id": "97fc8acd-f78d-4691-a43b-e53a9190228a",
   "metadata": {},
   "outputs": [
    {
     "name": "stdout",
     "output_type": "stream",
     "text": [
      "$$$$$$$$$$\n"
     ]
    }
   ],
   "source": [
    "print(\"$\" * 10)"
   ]
  },
  {
   "cell_type": "code",
   "execution_count": 9,
   "id": "f42e68a4-fe22-4ec1-8f45-b9760bc434b9",
   "metadata": {},
   "outputs": [
    {
     "name": "stdin",
     "output_type": "stream",
     "text": [
      "Enter your age in year 5\n"
     ]
    },
    {
     "name": "stdout",
     "output_type": "stream",
     "text": [
      "You are 555555555555  months old\n"
     ]
    }
   ],
   "source": [
    "age=input(\"Enter your age in year\")\n",
    "print('You are', age*12 ,\" months old\" )"
   ]
  },
  {
   "cell_type": "code",
   "execution_count": 11,
   "id": "41b84e99-07e9-4397-9c9b-97196c6d9ddd",
   "metadata": {},
   "outputs": [
    {
     "name": "stdin",
     "output_type": "stream",
     "text": [
      "Enter your age in year 5\n"
     ]
    },
    {
     "name": "stdout",
     "output_type": "stream",
     "text": [
      "You are 60  months old\n"
     ]
    }
   ],
   "source": [
    "age=input(\"Enter your age in year\")\n",
    "age=int(age)\n",
    "print('You are', age*12 ,\" months old\" )"
   ]
  },
  {
   "cell_type": "markdown",
   "id": "97d7c087-35fb-4176-b59f-b064df85d5ff",
   "metadata": {},
   "source": [
    "## Arithmetic operation"
   ]
  },
  {
   "cell_type": "code",
   "execution_count": 13,
   "id": "5f46885e-11bb-4ad7-b295-4a9c232ecd6c",
   "metadata": {},
   "outputs": [
    {
     "name": "stdout",
     "output_type": "stream",
     "text": [
      "Division = 0.8571428571428571\n"
     ]
    }
   ],
   "source": [
    "a=6\n",
    "b=7\n",
    "print(\"Division =\" ,a/b)"
   ]
  },
  {
   "cell_type": "code",
   "execution_count": 14,
   "id": "189e87f5-3d8e-40e7-95fb-91872fd173be",
   "metadata": {},
   "outputs": [
    {
     "name": "stdout",
     "output_type": "stream",
     "text": [
      "Floor Division = 0\n"
     ]
    }
   ],
   "source": [
    "a=6\n",
    "b=7\n",
    "print(\"Floor Division =\" ,a//b)"
   ]
  },
  {
   "cell_type": "code",
   "execution_count": 15,
   "id": "3f58ac84-a0fa-4956-b30d-409c9877b826",
   "metadata": {},
   "outputs": [
    {
     "name": "stdout",
     "output_type": "stream",
     "text": [
      "Floor Division = 2\n"
     ]
    }
   ],
   "source": [
    "a=12\n",
    "b=5\n",
    "print(\"Floor Division =\" ,a//b)"
   ]
  },
  {
   "cell_type": "code",
   "execution_count": 17,
   "id": "058da2ff-feca-47a2-940e-b918bec2e58b",
   "metadata": {},
   "outputs": [
    {
     "name": "stdout",
     "output_type": "stream",
     "text": [
      "Modulus or Remainder = 5\n"
     ]
    }
   ],
   "source": [
    "a=12\n",
    "b=7\n",
    "print(\"Modulus or Remainder =\" ,a%b)"
   ]
  },
  {
   "cell_type": "code",
   "execution_count": 18,
   "id": "dfe440e7-ca81-44ae-ab9e-4cd8e78803d4",
   "metadata": {},
   "outputs": [
    {
     "name": "stdout",
     "output_type": "stream",
     "text": [
      "I didn't know\n"
     ]
    }
   ],
   "source": [
    "print(\"I didn't know\")"
   ]
  },
  {
   "cell_type": "code",
   "execution_count": 19,
   "id": "b23fd1df-0d27-47f8-8537-3fe7aab02640",
   "metadata": {},
   "outputs": [
    {
     "name": "stdout",
     "output_type": "stream",
     "text": [
      "I didn't know\n"
     ]
    }
   ],
   "source": [
    "print('I didn\\'t know')"
   ]
  },
  {
   "cell_type": "code",
   "execution_count": 29,
   "id": "08526829-f589-4816-9ed6-b4af49b46be7",
   "metadata": {},
   "outputs": [
    {
     "name": "stdout",
     "output_type": "stream",
     "text": [
      "hellow \n",
      "\n",
      "how are you\n"
     ]
    }
   ],
   "source": [
    "print('hellow \\n\\nhow are you')"
   ]
  },
  {
   "cell_type": "code",
   "execution_count": 45,
   "id": "d12c42e7-8906-4b17-bed3-49bbd01f28c7",
   "metadata": {},
   "outputs": [
    {
     "name": "stdout",
     "output_type": "stream",
     "text": [
      "S m B h\n",
      "Bikash\n",
      "Susom\n",
      "False\n",
      "True\n",
      "True\n",
      "True\n"
     ]
    }
   ],
   "source": [
    "name=\"Susom Bikash Mukherjee\"\n",
    "print(name[0],name[4],name[6],name[11])\n",
    "middle_name=name[6:12] #12 is excluding\n",
    "print(middle_name)\n",
    "first_name=name[:5] #5 excluding\n",
    "print(first_name)\n",
    "#membership\n",
    "print('susom' in name)\n",
    "print('Susom' in name)\n",
    "print('SUSOM' in name.upper())\n",
    "print('susom' in name.lower())"
   ]
  },
  {
   "cell_type": "code",
   "execution_count": 54,
   "id": "1ce93c67-0e3c-4264-a3c3-f91242c38d4c",
   "metadata": {},
   "outputs": [
    {
     "name": "stdout",
     "output_type": "stream",
     "text": [
      "I am a gentleman   \n",
      "I am a gentleman\n",
      "I am a gentleman   xxx\n",
      "I am a gentleman   \n",
      "   I am a gentleman\n",
      "I am a gentleman\n",
      "   I am a gentleman    \n",
      "I am a gentleman\n",
      "1234\n"
     ]
    }
   ],
   "source": [
    "#truncate space\n",
    "# for right side\n",
    "string = \"I am a gentleman   \"\n",
    "print(string) #space in right side\n",
    "print(string.rstrip())\n",
    "\n",
    "string = \"I am a gentleman   xxx\"\n",
    "print(string) #space in right side\n",
    "print(string.rstrip('x')) #remove xs from right end but space will be there\n",
    "\n",
    "# for left side\n",
    "string = \"   I am a gentleman\"\n",
    "print(string) #space in left side\n",
    "print(string.lstrip())\n",
    "\n",
    "\n",
    "# from both end\n",
    "string = \"   I am a gentleman    \"\n",
    "print(string) #space in left side\n",
    "print(string.strip())\n",
    "\n",
    "#combined \n",
    "string = \"*****1234####\"\n",
    "print(string.rstrip('#').lstrip('*'))"
   ]
  },
  {
   "cell_type": "code",
   "execution_count": 2,
   "id": "bdaad626-38f5-4a95-aaa7-bb4eb250036c",
   "metadata": {},
   "outputs": [
    {
     "name": "stdout",
     "output_type": "stream",
     "text": [
      "5\n"
     ]
    }
   ],
   "source": [
    "#counting characters\n",
    "string=\"don't consume coconut in cold\"\n",
    "print(string.count('o'))"
   ]
  },
  {
   "cell_type": "code",
   "execution_count": 8,
   "id": "0b85c84c-5e2e-4faf-8495-ec532c10be74",
   "metadata": {},
   "outputs": [
    {
     "name": "stdout",
     "output_type": "stream",
     "text": [
      "This is Python Class\n",
      "This is Python Class\n",
      "This is Class Python\n"
     ]
    }
   ],
   "source": [
    "# String Formatting\n",
    "a=\"This\" \n",
    "b=\"Python\"\n",
    "c=\"Class\"\n",
    "print(a, 'is',b,c)\n",
    "print( \"{0} is {1} {2}\".format(a,b,c))\n",
    "print( \"{0} is {1} {2}\".format(a,c,b))"
   ]
  },
  {
   "cell_type": "code",
   "execution_count": 19,
   "id": "df0cfd15-b7d7-47c6-b69f-0d9227e47700",
   "metadata": {},
   "outputs": [],
   "source": [
    "#help\n",
    "#help(str)"
   ]
  },
  {
   "cell_type": "code",
   "execution_count": 18,
   "id": "f2c0c26c-b94d-4399-9246-f82370a00e0c",
   "metadata": {},
   "outputs": [
    {
     "name": "stdout",
     "output_type": "stream",
     "text": [
      "worlii\n",
      "mumba\n"
     ]
    }
   ],
   "source": [
    "# Testcase#1,2,3 for myself\n",
    "encrypted_message = \"wmourmlbia#i\"\n",
    "encrypted_message=encrypted_message.replace(\"#\", \"\")\n",
    "odd_position_chars = encrypted_message[::2]  # Take every second character starting from index 0\n",
    "even_position_chars = encrypted_message[1::2]  # Take every second character starting from index 1\n",
    "print(odd_position_chars)\n",
    "print(even_position_chars)"
   ]
  },
  {
   "cell_type": "code",
   "execution_count": null,
   "id": "dfdc11f7-5952-4060-8cd8-6b29dffd7a87",
   "metadata": {},
   "outputs": [],
   "source": [
    "# Testcase#1 ,2,3\n",
    "import ast,sys\n",
    "input_str = sys.stdin.read()\n",
    "#Type your code here\n",
    "message1 = input_str[::2]  # Take every second character starting from index 0\n",
    "message1=message1.replace(\"#\", \"\")\n",
    "\n",
    "message2 = input_str[1::2]  # Take every second character starting from index 1\n",
    "message2=message2.replace(\"#\", \"\")\n",
    "print(message1,',' ,message2)"
   ]
  },
  {
   "cell_type": "code",
   "execution_count": null,
   "id": "d6203c13-5ce3-40aa-9d5a-8495908806cd",
   "metadata": {},
   "outputs": [],
   "source": [
    "#Eliminating vowels code for self\n",
    "def remove_vowels(s):\n",
    "    vowels = \"aeiouAEIOU\"\n",
    "    return \"\".join(char for char in s if char not in vowels)\n",
    "\n",
    "# Example usage\n",
    "input_str = \"hello world\"\n",
    "output_str = remove_vowels(input_str)\n",
    "print(output_str)"
   ]
  },
  {
   "cell_type": "code",
   "execution_count": null,
   "id": "4cb67384-4285-441c-a050-c48e25e0edad",
   "metadata": {},
   "outputs": [],
   "source": [
    "# eliminating vowels\n",
    "# Take input\n",
    "s=input()\n",
    "\n",
    "# Write your code here\n",
    "vowels = \"aeiouAEIOU\"\n",
    "o=\"\".join(char for char in s if char not in vowels)\n",
    "\n",
    "\n",
    "#Print the result\n",
    "print(o)"
   ]
  },
  {
   "cell_type": "code",
   "execution_count": null,
   "id": "cb5ea277-cb40-46cc-834a-0a75790acda7",
   "metadata": {},
   "outputs": [],
   "source": [
    "# Previous and next character for self\n",
    "# Accept a character from the user\n",
    "char = input(\"Enter a character: \")\n",
    "\n",
    "# Ensure the input is a single character\n",
    "if len(char) == 1:\n",
    "    prev_char = chr(ord(char) - 1)  # Previous character\n",
    "    next_char = chr(ord(char) + 1)  # Next character\n",
    "\n",
    "    print(f\"Previous character: {prev_char}\")\n",
    "    print(f\"Next character: {next_char}\")\n",
    "else:\n",
    "    print(\"Please enter a single character.\")"
   ]
  },
  {
   "cell_type": "code",
   "execution_count": null,
   "id": "8f8ca955-3f14-484f-b255-266295618df7",
   "metadata": {},
   "outputs": [],
   "source": [
    "# Previous and next character for self\n",
    "# Take input\n",
    "char=input()\n",
    "\n",
    "\n",
    "#Write your code here\n",
    "if len(char) == 1:\n",
    "    prev_char = chr(ord(char) - 1)  # Previous character\n",
    "    next_char = chr(ord(char) + 1)  # Next character\n",
    "\n",
    "    print(prev_char)\n",
    "    print(next_char)\n",
    "else:\n",
    "    print(\"Please enter a single character.\")"
   ]
  },
  {
   "cell_type": "code",
   "execution_count": null,
   "id": "ff267a05-9c16-46b9-b382-4c731c46d336",
   "metadata": {},
   "outputs": [],
   "source": [
    "# Triangle validation for self\n",
    "# Accept three sides from the user\n",
    "a = float(input(\"Enter first side: \"))\n",
    "b = float(input(\"Enter second side: \"))\n",
    "c = float(input(\"Enter third side: \"))\n",
    "\n",
    "# Check the triangle inequality condition\n",
    "if (a + b > c) and (a + c > b) and (b + c > a):\n",
    "    print(\"The given sides form a valid triangle.\")\n",
    "else:\n",
    "    print(\"The given sides do not form a valid triangle.\")"
   ]
  },
  {
   "cell_type": "code",
   "execution_count": null,
   "id": "0b271353-7c48-4496-8059-5bda45bea8b6",
   "metadata": {},
   "outputs": [],
   "source": [
    "# Triangle validation\n",
    "# Take input\n",
    "a,b,c= input().split()\n",
    "\n",
    "# Write your code here\n",
    "# Convert a,b,c into numeric type and check for the validity of triangle\n",
    "\n",
    "# Check the triangle inequality condition\n",
    "a=int(a)\n",
    "b=int(b)\n",
    "c=int(c)\n",
    "if (a + b > c) and (a + c > b) and (b + c > a):\n",
    "    print(\"Valid\")\n",
    "else:\n",
    "    print(\"Invalid\")\n",
    "\n",
    "#print result"
   ]
  },
  {
   "cell_type": "code",
   "execution_count": null,
   "id": "bce23753-32b4-432b-9b4c-1f844031fb5b",
   "metadata": {},
   "outputs": [],
   "source": [
    "#table upto 10 for self\n",
    "# Accept a number from the user\n",
    "num = int(input(\"Enter a number: \"))\n",
    "\n",
    "# Print multiplication table up to 10\n",
    "print(f\"Multiplication Table of {num}:\")\n",
    "for i in range(1, 11):\n",
    "    print(f\"{num} x {i} = {num * i}\")"
   ]
  },
  {
   "cell_type": "code",
   "execution_count": null,
   "id": "189cab1c-10bc-4dca-a7ec-e78ae0013ca0",
   "metadata": {},
   "outputs": [],
   "source": [
    "#table upto 10\n",
    "#Take input\n",
    "n=int(input())\n",
    "\n",
    "#write your code here\n",
    "#print(f\"Multiplication Table of {num}:\")\n",
    "for i in range(1, 11):\n",
    "    print(f\"{n} * {i} = {n * i}\")"
   ]
  },
  {
   "cell_type": "code",
   "execution_count": null,
   "id": "222759c1-9877-49ea-b84e-35342dde5b14",
   "metadata": {},
   "outputs": [],
   "source": [
    "#Counting repetation of input character in input string for self\n",
    "# Function to count occurrences of a character in a string (case insensitive)\n",
    "def count_char_occurrences(string, char):\n",
    "    # Convert both the string and character to lowercase to make the search case-insensitive\n",
    "    string = string.lower()\n",
    "    char = char.lower()\n",
    "    \n",
    "    # Use the count() method to find the number of occurrences\n",
    "    return string.count(char)\n",
    "\n",
    "# Accept input from the user\n",
    "string_value = input(\"Enter a string: \")\n",
    "char_value = input(\"Enter a character to count its occurrences: \")\n",
    "\n",
    "# Ensure the input is a single character\n",
    "if len(char_value) != 1:\n",
    "    print(\"Please enter a single character.\")\n",
    "else:\n",
    "    # Get the count of occurrences\n",
    "    occurrences = count_char_occurrences(string_value, char_value)\n",
    "    print(f\"The character '{char_value}' appears {occurrences} times in the string.\")"
   ]
  },
  {
   "cell_type": "code",
   "execution_count": null,
   "id": "f8438cfc-d138-404d-bff6-9d7984a05bd9",
   "metadata": {},
   "outputs": [],
   "source": [
    "#Counting repetation of input character in input string for self\n",
    "# Take input\n",
    "input_string=input()\n",
    "input_char=input()\n",
    "\n",
    "input_string = input_string.lower()\n",
    "input_char = input_char.lower()\n",
    "\n",
    "#write your code here\n",
    "print(input_string.count(input_char))"
   ]
  },
  {
   "cell_type": "code",
   "execution_count": null,
   "id": "7a7b5f46-827a-4ca3-a95c-7c803d8e0fb3",
   "metadata": {},
   "outputs": [],
   "source": [
    "#Write a program to calculate the sum of the digits of a given number for self\n",
    "# Function to calculate the sum of digits\n",
    "def sum_of_digits(number):\n",
    "    total_sum = 0\n",
    "    # Loop through each digit in the number\n",
    "    while number > 0:\n",
    "        total_sum += number % 10  # Add the last digit to the sum\n",
    "        number //= 10  # Remove the last digit from the number\n",
    "    return total_sum\n",
    "\n",
    "# Accept input from the user\n",
    "number = int(input(\"Enter a number: \"))\n",
    "\n",
    "# Call the function and print the result\n",
    "result = sum_of_digits(number)\n",
    "print(f\"The sum of the digits is: {result}\")"
   ]
  },
  {
   "cell_type": "code",
   "execution_count": null,
   "id": "6978d3d0-22a1-4989-8a98-d3aec3ee10f3",
   "metadata": {},
   "outputs": [],
   "source": [
    "#Write a program to calculate the sum of the digits of a given number\n",
    "#Take input\n",
    "number=int(input())\n",
    "\n",
    "# write your code here\n",
    "total_sum=0\n",
    "while number > 0:\n",
    "        total_sum += number % 10  # Add the last digit to the sum\n",
    "        number //= 10  # Remove the last digit from the number\n",
    "print(total_sum)"
   ]
  },
  {
   "cell_type": "code",
   "execution_count": null,
   "id": "b3ee7e99-564d-4d7e-a093-34cd52f633d4",
   "metadata": {},
   "outputs": [],
   "source": [
    "#Write a program that takes a string as the input and does the following:\n",
    "#-Removes the numbers, special characters\n",
    "#-Converts uppercase letters to lowercase letters, and vice versa For Self\n",
    "# Function to process the string as per the requirements\n",
    "def process_string(input_string):\n",
    "    result = \"\"\n",
    "    \n",
    "    # Iterate over each character in the input string\n",
    "    for char in input_string:\n",
    "        # Check if the character is alphabetic\n",
    "        if char.isalpha():\n",
    "            # If the character is uppercase, convert it to lowercase, and vice versa\n",
    "            if char.islower():\n",
    "                result += char.upper()\n",
    "            else:\n",
    "                result += char.lower()\n",
    "        # Skip numbers and special characters (non-alphabetic characters)\n",
    "    \n",
    "    return result\n",
    "\n",
    "# Accept input from the user\n",
    "input_string = input(\"Enter a string: \")\n",
    "\n",
    "# Process the string\n",
    "processed_string = process_string(input_string)\n",
    "\n",
    "# Display the result\n",
    "print(f\"Processed string: {processed_string}\")"
   ]
  },
  {
   "cell_type": "code",
   "execution_count": null,
   "id": "7a6acb23-326e-481a-b973-66088046f944",
   "metadata": {},
   "outputs": [],
   "source": [
    "#Write a program that takes a string as the input and does the following:\n",
    "#-Removes the numbers, special characters\n",
    "#-Converts uppercase letters to lowercase letters, and vice versa \n",
    "#Take input\n",
    "input_string=input()\n",
    "\n",
    "#write your code here\n",
    "result = \"\"\n",
    "for char in input_string:\n",
    "        # Check if the character is alphabetic\n",
    "        if char.isalpha():\n",
    "            # If the character is uppercase, convert it to lowercase, and vice versa\n",
    "            if char.islower():\n",
    "                result += char.upper()\n",
    "            else:\n",
    "                result += char.lower()\n",
    "print(result)"
   ]
  },
  {
   "cell_type": "code",
   "execution_count": null,
   "id": "882af470-70c4-4e51-9b7f-cf6fed65cf1c",
   "metadata": {},
   "outputs": [],
   "source": [
    "# Write a program to accept a number from the user and count the zeros, odd digits and non-zero even digits from the entered number.\n",
    "# Function to count zeros, odd digits, and non-zero even digits\n",
    "def count_digits(number):\n",
    "    count_zeros = 0\n",
    "    count_odds = 0\n",
    "    count_non_zero_evens = 0\n",
    "    \n",
    "    # Convert the number to a string to easily iterate over each digit\n",
    "    for digit in str(number):\n",
    "        # Convert digit to integer\n",
    "        digit = int(digit)\n",
    "        \n",
    "        # Count zeros\n",
    "        if digit == 0:\n",
    "            count_zeros += 1\n",
    "        # Count odd digits\n",
    "        elif digit % 2 != 0:\n",
    "            count_odds += 1\n",
    "        # Count non-zero even digits\n",
    "        elif digit % 2 == 0 and digit != 0:\n",
    "            count_non_zero_evens += 1\n",
    "    \n",
    "    return count_zeros, count_odds, count_non_zero_evens\n",
    "\n",
    "# Accept input from the user\n",
    "number = input(\"Enter a number: \")\n",
    "\n",
    "# Call the function to count zeros, odd digits, and non-zero even digits\n",
    "zeros, odds, non_zero_evens = count_digits(number)\n",
    "\n",
    "# Display the results\n",
    "print(f\"Number of zeros: {zeros}\")\n",
    "print(f\"Number of odd digits: {odds}\")\n",
    "print(f\"Number of non-zero even digits: {non_zero_evens}\")"
   ]
  },
  {
   "cell_type": "code",
   "execution_count": null,
   "id": "876a8791-dc13-4738-b4f7-4cca8cac0379",
   "metadata": {},
   "outputs": [],
   "source": [
    "#Write a program to accept a number from the user and count the zeros, odd digits and non-zero even digits from the entered number.\n",
    "# Take input\n",
    "number=int(input())\n",
    "\n",
    "#write your code here\n",
    "count_zeros = 0\n",
    "count_odds = 0\n",
    "count_non_zero_evens = 0\n",
    "\n",
    "# Convert the number to a string to easily iterate over each digit\n",
    "for digit in str(number):\n",
    "    # Convert digit to integer\n",
    "    digit = int(digit)\n",
    "    \n",
    "    # Count zeros\n",
    "    if digit == 0:\n",
    "        count_zeros += 1\n",
    "    # Count odd digits\n",
    "    elif digit % 2 != 0:\n",
    "        count_odds += 1\n",
    "    # Count non-zero even digits\n",
    "    elif digit % 2 == 0 and digit != 0:\n",
    "        count_non_zero_evens += 1\n",
    "\n",
    "# Display the results\n",
    "print(f\"Number of odd digits: {count_odds}\")\n",
    "print(f\"Number of non-zero even digits: {count_non_zero_evens}\")\n",
    "print(f\"Number of zeros: {count_zeros}\")"
   ]
  }
 ],
 "metadata": {
  "kernelspec": {
   "display_name": "Python 3 (ipykernel)",
   "language": "python",
   "name": "python3"
  },
  "language_info": {
   "codemirror_mode": {
    "name": "ipython",
    "version": 3
   },
   "file_extension": ".py",
   "mimetype": "text/x-python",
   "name": "python",
   "nbconvert_exporter": "python",
   "pygments_lexer": "ipython3",
   "version": "3.12.7"
  }
 },
 "nbformat": 4,
 "nbformat_minor": 5
}
