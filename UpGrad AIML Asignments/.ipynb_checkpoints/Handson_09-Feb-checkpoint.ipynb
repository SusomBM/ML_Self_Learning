{
 "cells": [
  {
   "cell_type": "code",
   "execution_count": 3,
   "id": "a7cb95b8-d998-480b-8140-c7228d0d408f",
   "metadata": {},
   "outputs": [
    {
     "name": "stdout",
     "output_type": "stream",
     "text": [
      "50\n",
      "2525\n"
     ]
    }
   ],
   "source": [
    "#1 \n",
    "s = \"25\"  # A string representing a number\n",
    "result_int = str(int(s) * 2)  # Convert to integer and multiply\n",
    "result_st = str((s) * 2)  # Convert to integer and multiply\n",
    "print(result_int)\n",
    "print(result_st)"
   ]
  },
  {
   "cell_type": "code",
   "execution_count": 12,
   "id": "bbf35a7a-8526-4775-a0f1-b5f29124a274",
   "metadata": {},
   "outputs": [
    {
     "name": "stdin",
     "output_type": "stream",
     "text": [
      "Enter age:  16\n"
     ]
    },
    {
     "name": "stdout",
     "output_type": "stream",
     "text": [
      "Can't vote\n"
     ]
    }
   ],
   "source": [
    "#2\n",
    "a = int(input(\"Enter age: \"))  # Convert input to integer\n",
    "if a >= 18:\n",
    "    print(\"Can vote\")\n",
    "elif a < 0:\n",
    "    print(\"Incorrect\")  # Added colon after else\n",
    "else:\n",
    "    print(\"Can't vote\")  # Added colon after else"
   ]
  },
  {
   "cell_type": "code",
   "execution_count": 25,
   "id": "93363738-9146-46e3-a0a9-a35951465340",
   "metadata": {},
   "outputs": [
    {
     "name": "stdin",
     "output_type": "stream",
     "text": [
      "Enter age:  13\n"
     ]
    },
    {
     "name": "stdout",
     "output_type": "stream",
     "text": [
      "Teen\n"
     ]
    }
   ],
   "source": [
    "# import math\n",
    "#3\n",
    "a = int(input(\"Enter age: \"))  # Convert input to integer\n",
    "#a=math.ceil(int(a))\n",
    "if a >= 0 and a <= 12:\n",
    "    print(\"Child\")\n",
    "elif a > 12 and a <= 19:\n",
    "    print(\"Teen\")  # Added colon after else\n",
    "elif a > 19 and a <= 59:\n",
    "    print(\"Adult\")  # Added colon after else\n",
    "elif a > 59:\n",
    "    print(\"Senior\")  # Added colon after else\n",
    "else:\n",
    "    print(\"Invalid\")  # Added colon after else"
   ]
  },
  {
   "cell_type": "code",
   "execution_count": 28,
   "id": "89265dcc-ddf1-4363-8c5f-b7618d1cb861",
   "metadata": {},
   "outputs": [
    {
     "name": "stdin",
     "output_type": "stream",
     "text": [
      "Enter a string:  Hello gsdfg\n"
     ]
    },
    {
     "name": "stdout",
     "output_type": "stream",
     "text": [
      "Yes, the string starts with 'Hello'\n"
     ]
    }
   ],
   "source": [
    "input_str = input(\"Enter a string: \")  \n",
    "\n",
    "\n",
    "if input_str.lower().startswith(\"hello\"):\n",
    "    print(\"Yes, the string starts with 'Hello'\")\n",
    "else:\n",
    "    print(\"No, the string does not start with 'Hello'\")"
   ]
  },
  {
   "cell_type": "code",
   "execution_count": 32,
   "id": "881d57eb-df95-46a2-baaa-cd11b0b9eccb",
   "metadata": {},
   "outputs": [
    {
     "data": {
      "text/plain": [
       "True"
      ]
     },
     "execution_count": 32,
     "metadata": {},
     "output_type": "execute_result"
    }
   ],
   "source": [
    "#alternate \n",
    "a=\"hello\"\n",
    "input_str =\"Hello how are you\"\n",
    "a in input_str.lower()"
   ]
  },
  {
   "cell_type": "code",
   "execution_count": 34,
   "id": "93f9546e-a959-47d6-a6d9-dd270664380b",
   "metadata": {},
   "outputs": [
    {
     "name": "stdout",
     "output_type": "stream",
     "text": [
      "['Lets', 'solve', 'python', 'code']\n"
     ]
    },
    {
     "data": {
      "text/plain": [
       "list"
      ]
     },
     "execution_count": 34,
     "metadata": {},
     "output_type": "execute_result"
    }
   ],
   "source": [
    "s=\"Lets solve python code\"\n",
    "s2= s.split() # it splits based on space by default and stores in list\n",
    "print(s2)  \n",
    "type(s2)"
   ]
  },
  {
   "cell_type": "code",
   "execution_count": 36,
   "id": "bcf507a5-6d1d-4589-95a2-b1e6d58f869c",
   "metadata": {},
   "outputs": [
    {
     "name": "stdout",
     "output_type": "stream",
     "text": [
      "s\n"
     ]
    }
   ],
   "source": [
    "print(s2[1])\n",
    "print(s2[1][0])"
   ]
  },
  {
   "cell_type": "code",
   "execution_count": 39,
   "id": "2f8392dc-432c-4b84-b129-5b5fff301cce",
   "metadata": {},
   "outputs": [
    {
     "name": "stdin",
     "output_type": "stream",
     "text": [
      "Enter a string:  HeY rtewt .\n"
     ]
    },
    {
     "name": "stdout",
     "output_type": "stream",
     "text": [
      "yes\n"
     ]
    }
   ],
   "source": [
    "s1 = input(\"Enter a string: \") \n",
    "input_str = s1.lower()\n",
    "#\"Hey All , its upGrag.\"\n",
    "s=input_str.split()\n",
    "if s[0] == \"hey\" and s[-1] and input_str[-1] == \".\":\n",
    "   print(\"yes\")\n",
    "else:\n",
    " print(\"no\")"
   ]
  },
  {
   "cell_type": "code",
   "execution_count": 40,
   "id": "fc011fe6-fe4b-45aa-96e0-e9ddcab510b6",
   "metadata": {},
   "outputs": [
    {
     "name": "stdin",
     "output_type": "stream",
     "text": [
      "Enter a string:  heysdfsd  .\n"
     ]
    },
    {
     "name": "stdout",
     "output_type": "stream",
     "text": [
      "yes\n"
     ]
    }
   ],
   "source": [
    "s1 = input(\"Enter a string: \") \n",
    "input_str = s1.lower()\n",
    "#\"Hey All , its upGrag.\"\n",
    "s=input_str.split()\n",
    "if input_str[:3] == \"hey\" and s[-1] and input_str[-1] == \".\":\n",
    "   print(\"yes\")\n",
    "else:\n",
    " print(\"no\")"
   ]
  },
  {
   "cell_type": "code",
   "execution_count": 49,
   "id": "fd098cb0-8a17-4193-9060-6595d96d11e9",
   "metadata": {},
   "outputs": [
    {
     "name": "stdin",
     "output_type": "stream",
     "text": [
      "Enter a string:  aaAA\n"
     ]
    },
    {
     "name": "stdout",
     "output_type": "stream",
     "text": [
      "aaaa\n"
     ]
    }
   ],
   "source": [
    "s1 = input(\"Enter a string: \") #\"Hey Wveryone All , its upGrag.\"\n",
    "#s = s1.lower()\n",
    "if len(s) > 10:\n",
    "    vowels = \"aeiou\"\n",
    "    s = \"\".join(\"!\" if char in vowels else char for char in s)\n",
    "\n",
    "print(s)"
   ]
  },
  {
   "cell_type": "code",
   "execution_count": 47,
   "id": "d8ebf719-6713-4fda-8951-d42748d10b92",
   "metadata": {},
   "outputs": [
    {
     "name": "stdin",
     "output_type": "stream",
     "text": [
      "Enter a string:  aaAAE\n"
     ]
    },
    {
     "name": "stdout",
     "output_type": "stream",
     "text": [
      "aaaae\n"
     ]
    }
   ],
   "source": [
    "# by lambda function\n",
    "s = input(\"Enter a string: \") #\"Hey Wveryone All , its upGrag.\"\n",
    "if len(s) > 10:\n",
    "    replace_vowels = lambda c: \"!\" if c.lower() in \"aeiou\" else c\n",
    "    s = \"\".join(map(replace_vowels, s))\n",
    "\n",
    "print(s)"
   ]
  },
  {
   "cell_type": "code",
   "execution_count": 57,
   "id": "c75f9cc9-d354-4d0e-9d4a-64f603b8c9bc",
   "metadata": {},
   "outputs": [
    {
     "name": "stdin",
     "output_type": "stream",
     "text": [
      "Enter a string:  aaA\n"
     ]
    },
    {
     "name": "stdout",
     "output_type": "stream",
     "text": [
      "Aaa\n"
     ]
    }
   ],
   "source": [
    "s = input(\"Enter a string: \")\n",
    "\n",
    "# Check if the first and last characters are alphabets\n",
    "if  s[0].isalpha() and s[-1].isalpha():\n",
    "    s = s[-1] + s[1:-1] + s[0]  # Swap first and last character\n",
    "\n",
    "print(s)"
   ]
  },
  {
   "cell_type": "code",
   "execution_count": 64,
   "id": "f652ac20-b534-473b-93be-22f80af2d6d6",
   "metadata": {},
   "outputs": [
    {
     "name": "stdin",
     "output_type": "stream",
     "text": [
      "Enter a string:  abcdef\n"
     ]
    },
    {
     "name": "stdout",
     "output_type": "stream",
     "text": [
      "after list  ['a', 'b', 'c', 'd', 'e', 'f']\n",
      "a   f\n",
      "['f', 'b', 'c', 'd', 'e', 'f']\n",
      "fbcdef\n",
      "abcdef\n"
     ]
    }
   ],
   "source": [
    "s = input(\"Enter a string: \")\n",
    "\n",
    "# Check if the first and last characters are alphabets\n",
    "if  s[0].isalpha() and s[-1].isalpha():\n",
    "    t2=list(s)\n",
    "    print(\"after list \", t2)\n",
    "    print(t2[0], \" \", t2[-1])\n",
    "    t2[0]= t2[-1]\n",
    "    t2[-1] =t2[0]\n",
    "    print(t2)\n",
    "    t2= \"\".join(t2)\n",
    "    print(t2)\n",
    "print(s)"
   ]
  },
  {
   "cell_type": "code",
   "execution_count": 65,
   "id": "954b89bc-4e97-448e-9d4a-591d38fcfd05",
   "metadata": {},
   "outputs": [
    {
     "name": "stdout",
     "output_type": "stream",
     "text": [
      "List access time: 0.07011760002933443\n",
      "Tuple access time: 0.0837366001214832\n"
     ]
    }
   ],
   "source": [
    "import timeit\n",
    "\n",
    "# Creating a large list and tuple\n",
    "lst = list(range(1000000))\n",
    "tup = tuple(range(1000000))\n",
    "\n",
    "# Measuring access time\n",
    "list_time = timeit.timeit(lambda: lst[500000], number=1000000)\n",
    "tuple_time = timeit.timeit(lambda: tup[500000], number=1000000)\n",
    "\n",
    "print(f\"List access time: {list_time}\")\n",
    "print(f\"Tuple access time: {tuple_time}\")"
   ]
  },
  {
   "cell_type": "code",
   "execution_count": 69,
   "id": "27d1781b-ec85-440c-af54-d5ddcc1124fa",
   "metadata": {},
   "outputs": [
    {
     "name": "stdout",
     "output_type": "stream",
     "text": [
      "[1, 2, 3, 4, 5]\n",
      "(1, 2, 3, 4, 5)\n"
     ]
    }
   ],
   "source": [
    "my_tuple=(1,2,5,3,4)\n",
    "ly_list = sorted(my_tuple)\n",
    "print(ly_list)\n",
    "my_tuple = tuple(ly_list)\n",
    "print(my_tuple)"
   ]
  },
  {
   "cell_type": "code",
   "execution_count": null,
   "id": "b2fc6ec5-1cdb-4cee-aabd-8469e69d4c43",
   "metadata": {},
   "outputs": [],
   "source": []
  }
 ],
 "metadata": {
  "kernelspec": {
   "display_name": "Python 3 (ipykernel)",
   "language": "python",
   "name": "python3"
  },
  "language_info": {
   "codemirror_mode": {
    "name": "ipython",
    "version": 3
   },
   "file_extension": ".py",
   "mimetype": "text/x-python",
   "name": "python",
   "nbconvert_exporter": "python",
   "pygments_lexer": "ipython3",
   "version": "3.12.7"
  }
 },
 "nbformat": 4,
 "nbformat_minor": 5
}
