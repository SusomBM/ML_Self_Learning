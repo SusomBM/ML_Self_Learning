{
 "cells": [
  {
   "cell_type": "markdown",
   "id": "a10ea52d-a70d-4559-9075-99dfb5c1b01a",
   "metadata": {},
   "source": [
    "#### Q1"
   ]
  },
  {
   "cell_type": "code",
   "execution_count": 3,
   "id": "57c667d9-67a7-44c2-9647-d2fe390a1320",
   "metadata": {},
   "outputs": [
    {
     "name": "stdin",
     "output_type": "stream",
     "text": [
      " 2\n",
      " 8\n",
      " .3\n"
     ]
    },
    {
     "name": "stdout",
     "output_type": "stream",
     "text": [
      "[2 0 2 2 2 2 1 3 2 2]\n"
     ]
    }
   ],
   "source": [
    "'''\n",
    "   Generate a binomial distribution, tested 10 times, given the number of trials(n) and probability(p) of each trial.\n",
    "   The input will contain seed, n and p in the same order.\n",
    "   The output should contain a numpy array with 10 numbers representing the required binomial distribution.\n",
    "   Explanation: \n",
    "   seed (integer) → Used to initialize NumPy’s random number generator for reproducibility.\n",
    "   n (integer)    → Number of trials in each binomial experiment.\n",
    "   p (float)      → Probability of success in each trial.\n",
    " \n",
    "'''\n",
    "import numpy as np \n",
    "seed=int(input())\n",
    "n=int(input())\n",
    "p=float(input())\n",
    "#write your code here\n",
    "# Set the seed for reproducibility\n",
    "np.random.seed(seed)\n",
    "\n",
    "# Generate binomial distribution (10 samples)\n",
    "s = np.random.binomial(n, p, 10) \n",
    "print(s)"
   ]
  },
  {
   "cell_type": "markdown",
   "id": "757ed5e2-9e6e-4559-a3e8-7c896388589c",
   "metadata": {},
   "source": [
    "#### Q2"
   ]
  },
  {
   "cell_type": "code",
   "execution_count": 4,
   "id": "2a9c4635-3f38-4644-bd33-7a306ba6480b",
   "metadata": {},
   "outputs": [
    {
     "name": "stdin",
     "output_type": "stream",
     "text": [
      " .5\n",
      " .2\n"
     ]
    },
    {
     "name": "stdout",
     "output_type": "stream",
     "text": [
      "2.5\n"
     ]
    }
   ],
   "source": [
    "''' \n",
    "    A card stack contains white and black cards. Two cards are drawn randomly without replacement. \n",
    "    The probability of selecting a white  and then a black card is x. \n",
    "    The probability of selecting a white card in the first draw is y. \n",
    "    You have to find the probability of drawing a black card, given that the first card drawn was white.\n",
    "    The input will contain two lines with x and y respectively.  \n",
    "    The output should be displayed as a float(no need to round it off).\n",
    "    Sample Input:\n",
    "    0.2\n",
    "    0.5\n",
    "    Sample Output:\n",
    "    0.4\n",
    "'''\n",
    "# Take inputs\n",
    "x = float(input())  # Probability of drawing white then black\n",
    "y = float(input())  # Probability of drawing white first\n",
    "\n",
    "# Compute conditional probability\n",
    "result = x / y\n",
    "\n",
    "# Print the result\n",
    "print(result)\n"
   ]
  },
  {
   "cell_type": "markdown",
   "id": "78dbea48-fde0-4d41-a26d-531b47a2f251",
   "metadata": {},
   "source": [
    "#### Q3"
   ]
  },
  {
   "cell_type": "code",
   "execution_count": null,
   "id": "ea622dc9-17ed-4448-a431-b0c4e47103bf",
   "metadata": {},
   "outputs": [],
   "source": [
    "'''\n",
    "    N people sit around a circular table. You have to find the probability that two particular people won't be sitting together.\n",
    "    The input will have the number N and the output should have the probability printed as a float type number rounded off to four decimal places.\n",
    "    Hint: This problem follows the logic of circular permutation which you can read about here.\n",
    "    Please note that if the answer is 3.6, it is to be reported as 3.6 and not 3.6000\n",
    "\n",
    "    Sample Input:\n",
    "    15\n",
    "    Sample Output:\n",
    "    0.8571\n",
    "'''\n",
    "import math\n",
    "\n",
    "# Take input\n",
    "N = int(input())\n",
    "\n",
    "# Compute probability\n",
    "if N > 2:\n",
    "    probability_not_together = 1 - (2 / (N - 1))\n",
    "else:\n",
    "    probability_not_together = 0.0  # If only 2 people, they must sit together\n",
    "\n",
    "# Print result rounded to 4 decimal places\n",
    "print(round(probability_not_together, 4))\n"
   ]
  },
  {
   "cell_type": "markdown",
   "id": "eb1681db-7e75-42ad-9c3a-be73475cf030",
   "metadata": {},
   "source": [
    "#### Q4\n",
    "![Sample Image](Formula_1.png)"
   ]
  },
  {
   "cell_type": "code",
   "execution_count": 6,
   "id": "1afe69e6-487d-4901-96a6-52cc983c7a99",
   "metadata": {},
   "outputs": [
    {
     "name": "stdout",
     "output_type": "stream",
     "text": [
      "Population Mean (μ): 8.0\n",
      "Sample Mean (X̄): 8.0\n",
      "Population SD: 1.4142135623730951\n",
      "Sample SD: 1.5811388300841898\n",
      "Standard Error (SE): 0.7071067811865476\n"
     ]
    }
   ],
   "source": [
    "import numpy as np\n",
    "\n",
    "# Given population data\n",
    "population = np.array([8, 9, 7, 10, 6, 8, 9, 7, 10, 6])\n",
    "\n",
    "# Sample data (randomly chosen)\n",
    "sample = np.array([8, 9, 7, 10, 6])\n",
    "\n",
    "# Population Mean\n",
    "population_mean = np.mean(population)\n",
    "\n",
    "# Sample Mean\n",
    "sample_mean = np.mean(sample)\n",
    "\n",
    "# Population Standard Deviation (using N, so ddof=0)\n",
    "population_sd = np.std(population, ddof=0)\n",
    "\n",
    "# Sample Standard Deviation (using n-1, so ddof=1)\n",
    "sample_sd = np.std(sample, ddof=1)\n",
    "\n",
    "# Standard Error (SE)\n",
    "sample_size = len(sample)\n",
    "standard_error = sample_sd / np.sqrt(sample_size)\n",
    "\n",
    "# Print results\n",
    "print(f\"Population Mean (μ): {population_mean}\")\n",
    "print(f\"Sample Mean (X̄): {sample_mean}\")\n",
    "print(f\"Population SD: {population_sd}\")\n",
    "print(f\"Sample SD: {sample_sd}\")\n",
    "print(f\"Standard Error (SE): {standard_error}\")\n"
   ]
  },
  {
   "cell_type": "markdown",
   "id": "4d01f2fe-3968-45dd-8ecd-719ff4051d5f",
   "metadata": {},
   "source": [
    "Interpretation\n",
    "1️⃣ Population Mean (𝜇μ) = 8 hours → The true average working hours for all 10 employees.\n",
    "2️⃣ Sample Mean (𝑋ˉ) = 8 hours → The estimated average based on the sample.\n",
    "3️⃣ Population SD (𝑆𝐷pop) = 1.41 → Shows variability in the full dataset.\n",
    "4️⃣ Sample SD (𝑆𝐷sample) = 1.58 → Measures variation within the sample.\n",
    "5️⃣ Standard Error (SE) = 0.71 → Indicates how much sample means typically deviate from the true population mean."
   ]
  },
  {
   "cell_type": "code",
   "execution_count": null,
   "id": "ce09d623-eec5-4c06-b475-4e8e9f2e2b2d",
   "metadata": {},
   "outputs": [],
   "source": []
  }
 ],
 "metadata": {
  "kernelspec": {
   "display_name": "Python 3 (ipykernel)",
   "language": "python",
   "name": "python3"
  },
  "language_info": {
   "codemirror_mode": {
    "name": "ipython",
    "version": 3
   },
   "file_extension": ".py",
   "mimetype": "text/x-python",
   "name": "python",
   "nbconvert_exporter": "python",
   "pygments_lexer": "ipython3",
   "version": "3.12.7"
  }
 },
 "nbformat": 4,
 "nbformat_minor": 5
}
